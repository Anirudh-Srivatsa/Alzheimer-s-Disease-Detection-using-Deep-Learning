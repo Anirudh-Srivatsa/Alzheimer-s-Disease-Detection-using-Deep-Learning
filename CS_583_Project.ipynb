{
  "nbformat": 4,
  "nbformat_minor": 0,
  "metadata": {
    "colab": {
      "provenance": []
    },
    "kernelspec": {
      "name": "python3",
      "display_name": "Python 3"
    },
    "language_info": {
      "name": "python"
    }
  },
  "cells": [
    {
      "cell_type": "code",
      "execution_count": 1,
      "metadata": {
        "id": "l-Xgr9slNs6v"
      },
      "outputs": [],
      "source": [
        "import os\n",
        "import numpy as np\n",
        "from keras.preprocessing.image import ImageDataGenerator\n",
        "from keras.models import Sequential\n",
        "from keras.layers import Conv2D, MaxPooling2D\n",
        "from keras.layers import Activation, Dropout, Flatten, Dense\n",
        "from keras.callbacks import ModelCheckpoint, EarlyStopping"
      ]
    },
    {
      "cell_type": "code",
      "source": [
        "from google.colab import drive\n",
        "drive.mount('/content/drive')"
      ],
      "metadata": {
        "colab": {
          "base_uri": "https://localhost:8080/"
        },
        "id": "3GihuVYdPiog",
        "outputId": "3c660e1e-397a-466e-eaff-86f5ca70819f"
      },
      "execution_count": 2,
      "outputs": [
        {
          "output_type": "stream",
          "name": "stdout",
          "text": [
            "Drive already mounted at /content/drive; to attempt to forcibly remount, call drive.mount(\"/content/drive\", force_remount=True).\n"
          ]
        }
      ]
    },
    {
      "cell_type": "code",
      "source": [
        "TRAIN_DIR = '/content/drive/MyDrive/Alzheimer_s Dataset/train'\n",
        "TEST_DIR = '/content/drive/MyDrive/Alzheimer_s Dataset/test'"
      ],
      "metadata": {
        "id": "W2IZFVArOUl8"
      },
      "execution_count": 4,
      "outputs": []
    },
    {
      "cell_type": "code",
      "source": [
        "IMAGE_SIZE = 176\n",
        "BATCH_SIZE = 10"
      ],
      "metadata": {
        "id": "P6tU5mJQOUvR"
      },
      "execution_count": 5,
      "outputs": []
    },
    {
      "cell_type": "code",
      "source": [
        "def build_model():\n",
        "    model = Sequential()\n",
        "    model.add(Conv2D(32, (3, 3), input_shape=(IMAGE_SIZE, IMAGE_SIZE, 1)))\n",
        "    model.add(Activation('relu'))\n",
        "    model.add(MaxPooling2D(pool_size=(2, 2)))\n",
        "\n",
        "    model.add(Conv2D(64, (3, 3)))\n",
        "    model.add(Activation('relu'))\n",
        "    model.add(MaxPooling2D(pool_size=(2, 2)))\n",
        "\n",
        "    model.add(Flatten())\n",
        "    model.add(Dense(64))\n",
        "    model.add(Activation('relu'))\n",
        "    model.add(Dropout(0.5))\n",
        "    model.add(Dense(4))\n",
        "    model.add(Activation('softmax'))\n",
        "\n",
        "    model.compile(loss='categorical_crossentropy',\n",
        "                  optimizer='adam',\n",
        "                  metrics=['accuracy'])\n",
        "    return model\n",
        "\n",
        "\n",
        "model = build_model()"
      ],
      "metadata": {
        "id": "lG_t89-bOU1J"
      },
      "execution_count": 6,
      "outputs": []
    },
    {
      "cell_type": "code",
      "source": [
        "train_datagen = ImageDataGenerator(rescale=1./255)\n",
        "test_datagen = ImageDataGenerator(rescale=1./255)"
      ],
      "metadata": {
        "id": "Il9XsMefOU9p"
      },
      "execution_count": 7,
      "outputs": []
    },
    {
      "cell_type": "code",
      "source": [
        "train_generator = train_datagen.flow_from_directory(\n",
        "    TRAIN_DIR,\n",
        "    target_size=(IMAGE_SIZE, IMAGE_SIZE),\n",
        "    batch_size=BATCH_SIZE,\n",
        "    color_mode='grayscale',\n",
        "    class_mode='categorical')\n",
        "\n",
        "validation_generator = test_datagen.flow_from_directory(\n",
        "    TEST_DIR,\n",
        "    target_size=(IMAGE_SIZE, IMAGE_SIZE),\n",
        "    batch_size=BATCH_SIZE,\n",
        "    color_mode='grayscale',\n",
        "    class_mode='categorical')"
      ],
      "metadata": {
        "colab": {
          "base_uri": "https://localhost:8080/"
        },
        "id": "V9LdaQnnPAOW",
        "outputId": "71445840-67d3-4437-c048-532da10e6282"
      },
      "execution_count": 8,
      "outputs": [
        {
          "output_type": "stream",
          "name": "stdout",
          "text": [
            "Found 232 images belonging to 4 classes.\n",
            "Found 57 images belonging to 4 classes.\n"
          ]
        }
      ]
    },
    {
      "cell_type": "code",
      "source": [
        "history = model.fit_generator(\n",
        "    train_generator,\n",
        "    steps_per_epoch=max(1, train_generator.samples // BATCH_SIZE),\n",
        "    epochs=50,\n",
        "    validation_data=validation_generator,\n",
        "    validation_steps=max(1, validation_generator.samples // BATCH_SIZE))\n",
        "\n",
        "model.save('alzheimers_model.h5')"
      ],
      "metadata": {
        "colab": {
          "base_uri": "https://localhost:8080/"
        },
        "id": "1RDqle7DPARO",
        "outputId": "51484d28-0c21-4a7e-f111-78879bce58a1"
      },
      "execution_count": 9,
      "outputs": [
        {
          "output_type": "stream",
          "name": "stderr",
          "text": [
            "<ipython-input-9-bb0edf6b1098>:1: UserWarning: `Model.fit_generator` is deprecated and will be removed in a future version. Please use `Model.fit`, which supports generators.\n",
            "  history = model.fit_generator(\n"
          ]
        },
        {
          "output_type": "stream",
          "name": "stdout",
          "text": [
            "Epoch 1/50\n",
            "23/23 [==============================] - 64s 3s/step - loss: 1.6964 - accuracy: 0.2838 - val_loss: 1.3982 - val_accuracy: 0.1800\n",
            "Epoch 2/50\n",
            "23/23 [==============================] - 11s 462ms/step - loss: 1.2956 - accuracy: 0.4414 - val_loss: 1.5008 - val_accuracy: 0.2200\n",
            "Epoch 3/50\n",
            "23/23 [==============================] - 13s 580ms/step - loss: 1.0558 - accuracy: 0.4820 - val_loss: 2.1433 - val_accuracy: 0.2200\n",
            "Epoch 4/50\n",
            "23/23 [==============================] - 10s 442ms/step - loss: 0.9452 - accuracy: 0.5315 - val_loss: 2.8814 - val_accuracy: 0.2200\n",
            "Epoch 5/50\n",
            "23/23 [==============================] - 13s 576ms/step - loss: 0.8089 - accuracy: 0.6126 - val_loss: 3.7932 - val_accuracy: 0.2400\n",
            "Epoch 6/50\n",
            "23/23 [==============================] - 12s 504ms/step - loss: 0.7521 - accuracy: 0.6486 - val_loss: 3.0982 - val_accuracy: 0.2200\n",
            "Epoch 7/50\n",
            "23/23 [==============================] - 12s 529ms/step - loss: 0.5913 - accuracy: 0.7658 - val_loss: 3.1805 - val_accuracy: 0.2400\n",
            "Epoch 8/50\n",
            "23/23 [==============================] - 11s 503ms/step - loss: 0.7060 - accuracy: 0.6486 - val_loss: 4.1047 - val_accuracy: 0.2000\n",
            "Epoch 9/50\n",
            "23/23 [==============================] - 12s 537ms/step - loss: 0.4736 - accuracy: 0.7748 - val_loss: 4.8269 - val_accuracy: 0.1600\n",
            "Epoch 10/50\n",
            "23/23 [==============================] - 13s 589ms/step - loss: 0.5014 - accuracy: 0.7748 - val_loss: 4.5457 - val_accuracy: 0.2200\n",
            "Epoch 11/50\n",
            "23/23 [==============================] - 13s 585ms/step - loss: 0.4398 - accuracy: 0.8243 - val_loss: 4.7258 - val_accuracy: 0.2000\n",
            "Epoch 12/50\n",
            "23/23 [==============================] - 14s 600ms/step - loss: 0.3678 - accuracy: 0.8468 - val_loss: 5.4779 - val_accuracy: 0.2200\n",
            "Epoch 13/50\n",
            "23/23 [==============================] - 14s 595ms/step - loss: 0.3503 - accuracy: 0.8378 - val_loss: 5.2956 - val_accuracy: 0.2400\n",
            "Epoch 14/50\n",
            "23/23 [==============================] - 12s 529ms/step - loss: 0.3221 - accuracy: 0.8559 - val_loss: 6.5613 - val_accuracy: 0.2200\n",
            "Epoch 15/50\n",
            "23/23 [==============================] - 13s 581ms/step - loss: 0.3925 - accuracy: 0.8423 - val_loss: 6.7043 - val_accuracy: 0.2200\n",
            "Epoch 16/50\n",
            "23/23 [==============================] - 12s 508ms/step - loss: 0.3144 - accuracy: 0.8874 - val_loss: 7.4458 - val_accuracy: 0.2000\n",
            "Epoch 17/50\n",
            "23/23 [==============================] - 12s 516ms/step - loss: 0.2333 - accuracy: 0.9144 - val_loss: 7.2195 - val_accuracy: 0.2200\n",
            "Epoch 18/50\n",
            "23/23 [==============================] - 14s 628ms/step - loss: 0.2213 - accuracy: 0.9099 - val_loss: 7.1364 - val_accuracy: 0.2200\n",
            "Epoch 19/50\n",
            "23/23 [==============================] - 13s 553ms/step - loss: 0.2786 - accuracy: 0.9009 - val_loss: 6.2790 - val_accuracy: 0.2400\n",
            "Epoch 20/50\n",
            "23/23 [==============================] - 11s 459ms/step - loss: 0.1643 - accuracy: 0.9505 - val_loss: 6.9794 - val_accuracy: 0.2400\n",
            "Epoch 21/50\n",
            "23/23 [==============================] - 13s 587ms/step - loss: 0.1709 - accuracy: 0.9459 - val_loss: 7.3044 - val_accuracy: 0.2600\n",
            "Epoch 22/50\n",
            "23/23 [==============================] - 12s 531ms/step - loss: 0.1680 - accuracy: 0.9369 - val_loss: 7.6967 - val_accuracy: 0.2200\n",
            "Epoch 23/50\n",
            "23/23 [==============================] - 11s 479ms/step - loss: 0.1619 - accuracy: 0.9459 - val_loss: 7.5261 - val_accuracy: 0.2400\n",
            "Epoch 24/50\n",
            "23/23 [==============================] - 13s 547ms/step - loss: 0.1797 - accuracy: 0.9414 - val_loss: 9.5511 - val_accuracy: 0.2000\n",
            "Epoch 25/50\n",
            "23/23 [==============================] - 11s 472ms/step - loss: 0.1602 - accuracy: 0.9459 - val_loss: 6.4545 - val_accuracy: 0.2800\n",
            "Epoch 26/50\n",
            "23/23 [==============================] - 13s 586ms/step - loss: 0.2360 - accuracy: 0.8964 - val_loss: 7.2446 - val_accuracy: 0.2400\n",
            "Epoch 27/50\n",
            "23/23 [==============================] - 14s 593ms/step - loss: 0.1138 - accuracy: 0.9685 - val_loss: 7.3008 - val_accuracy: 0.2600\n",
            "Epoch 28/50\n",
            "23/23 [==============================] - 13s 543ms/step - loss: 0.3050 - accuracy: 0.9234 - val_loss: 7.1059 - val_accuracy: 0.1600\n",
            "Epoch 29/50\n",
            "23/23 [==============================] - 10s 435ms/step - loss: 0.1625 - accuracy: 0.9324 - val_loss: 9.1402 - val_accuracy: 0.2000\n",
            "Epoch 30/50\n",
            "23/23 [==============================] - 13s 583ms/step - loss: 0.1391 - accuracy: 0.9459 - val_loss: 6.7675 - val_accuracy: 0.1600\n",
            "Epoch 31/50\n",
            "23/23 [==============================] - 14s 597ms/step - loss: 0.1342 - accuracy: 0.9550 - val_loss: 8.7156 - val_accuracy: 0.1800\n",
            "Epoch 32/50\n",
            "23/23 [==============================] - 13s 572ms/step - loss: 0.1081 - accuracy: 0.9595 - val_loss: 6.9460 - val_accuracy: 0.2200\n",
            "Epoch 33/50\n",
            "23/23 [==============================] - 12s 516ms/step - loss: 0.1205 - accuracy: 0.9505 - val_loss: 9.4483 - val_accuracy: 0.2000\n",
            "Epoch 34/50\n",
            "23/23 [==============================] - 12s 496ms/step - loss: 0.0701 - accuracy: 0.9685 - val_loss: 8.6951 - val_accuracy: 0.2200\n",
            "Epoch 35/50\n",
            "23/23 [==============================] - 13s 583ms/step - loss: 0.0670 - accuracy: 0.9730 - val_loss: 10.3795 - val_accuracy: 0.2000\n",
            "Epoch 36/50\n",
            "23/23 [==============================] - 12s 539ms/step - loss: 0.0875 - accuracy: 0.9640 - val_loss: 10.5327 - val_accuracy: 0.2000\n",
            "Epoch 37/50\n",
            "23/23 [==============================] - 14s 591ms/step - loss: 0.0871 - accuracy: 0.9775 - val_loss: 11.9570 - val_accuracy: 0.2400\n",
            "Epoch 38/50\n",
            "23/23 [==============================] - 11s 500ms/step - loss: 0.0766 - accuracy: 0.9775 - val_loss: 12.4430 - val_accuracy: 0.2200\n",
            "Epoch 39/50\n",
            "23/23 [==============================] - 12s 515ms/step - loss: 0.0818 - accuracy: 0.9730 - val_loss: 11.9584 - val_accuracy: 0.2400\n",
            "Epoch 40/50\n",
            "23/23 [==============================] - 12s 517ms/step - loss: 0.0782 - accuracy: 0.9730 - val_loss: 12.1494 - val_accuracy: 0.1800\n",
            "Epoch 41/50\n",
            "23/23 [==============================] - 12s 520ms/step - loss: 0.1063 - accuracy: 0.9609 - val_loss: 12.4143 - val_accuracy: 0.2200\n",
            "Epoch 42/50\n",
            "23/23 [==============================] - 14s 608ms/step - loss: 0.0505 - accuracy: 0.9775 - val_loss: 12.2953 - val_accuracy: 0.2200\n",
            "Epoch 43/50\n",
            "23/23 [==============================] - 13s 565ms/step - loss: 0.0935 - accuracy: 0.9640 - val_loss: 12.8221 - val_accuracy: 0.1800\n",
            "Epoch 44/50\n",
            "23/23 [==============================] - 14s 599ms/step - loss: 0.0868 - accuracy: 0.9730 - val_loss: 13.3373 - val_accuracy: 0.1800\n",
            "Epoch 45/50\n",
            "23/23 [==============================] - 12s 522ms/step - loss: 0.0808 - accuracy: 0.9685 - val_loss: 14.0861 - val_accuracy: 0.1800\n",
            "Epoch 46/50\n",
            "23/23 [==============================] - 13s 591ms/step - loss: 0.0538 - accuracy: 0.9775 - val_loss: 9.4528 - val_accuracy: 0.2200\n",
            "Epoch 47/50\n",
            "23/23 [==============================] - 12s 504ms/step - loss: 0.0884 - accuracy: 0.9820 - val_loss: 10.4768 - val_accuracy: 0.2000\n",
            "Epoch 48/50\n",
            "23/23 [==============================] - 14s 598ms/step - loss: 0.0484 - accuracy: 0.9775 - val_loss: 12.2255 - val_accuracy: 0.2200\n",
            "Epoch 49/50\n",
            "23/23 [==============================] - 12s 533ms/step - loss: 0.0702 - accuracy: 0.9775 - val_loss: 11.5444 - val_accuracy: 0.2200\n",
            "Epoch 50/50\n",
            "23/23 [==============================] - 14s 593ms/step - loss: 0.0770 - accuracy: 0.9775 - val_loss: 13.7792 - val_accuracy: 0.2000\n"
          ]
        },
        {
          "output_type": "stream",
          "name": "stderr",
          "text": [
            "/usr/local/lib/python3.10/dist-packages/keras/src/engine/training.py:3079: UserWarning: You are saving your model as an HDF5 file via `model.save()`. This file format is considered legacy. We recommend using instead the native Keras format, e.g. `model.save('my_model.keras')`.\n",
            "  saving_api.save_model(\n"
          ]
        }
      ]
    },
    {
      "cell_type": "code",
      "source": [
        "\n",
        "evaluate = model.evaluate_generator(validation_generator, steps=validation_generator.samples // BATCH_SIZE, verbose=1)\n",
        "print('Model Loss: {}, Model Accuracy: {}'.format(evaluate[0], evaluate[1]))"
      ],
      "metadata": {
        "colab": {
          "base_uri": "https://localhost:8080/"
        },
        "id": "RxKd2D_NPAT1",
        "outputId": "f4f81784-5842-4af7-8ed0-9287c5924db0"
      },
      "execution_count": 11,
      "outputs": [
        {
          "output_type": "stream",
          "name": "stderr",
          "text": [
            "<ipython-input-11-3ac34a5cf3a6>:2: UserWarning: `Model.evaluate_generator` is deprecated and will be removed in a future version. Please use `Model.evaluate`, which supports generators.\n",
            "  evaluate = model.evaluate_generator(validation_generator, steps=validation_generator.samples // BATCH_SIZE, verbose=1)\n"
          ]
        },
        {
          "output_type": "stream",
          "name": "stdout",
          "text": [
            "5/5 [==============================] - 1s 214ms/step - loss: 13.4701 - accuracy: 0.2200\n",
            "Model Loss: 13.470062255859375, Model Accuracy: 0.2199999988079071\n"
          ]
        }
      ]
    },
    {
      "cell_type": "markdown",
      "source": [
        "#1st phase of project- Building the model."
      ],
      "metadata": {
        "id": "IvA0SyFObw9g"
      }
    },
    {
      "cell_type": "markdown",
      "source": [
        "#2nd phase - To improve accuaracy"
      ],
      "metadata": {
        "id": "RW3PsN3ub73R"
      }
    },
    {
      "cell_type": "code",
      "source": [],
      "metadata": {
        "id": "DqOniSWNcBG3"
      },
      "execution_count": null,
      "outputs": []
    }
  ]
}